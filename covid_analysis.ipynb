{
 "cells": [
  {
   "cell_type": "markdown",
   "metadata": {},
   "source": [
    "# Interpretación de datos del COVID"
   ]
  },
  {
   "cell_type": "markdown",
   "metadata": {},
   "source": [
    " Empezamos cargando las librerias que se necesitará para el análisis de los datos.\n",
    "- Pandas : Libreria para manipular las tablas de datos\n",
    "- Numpy : Libreria para operaciones numéricas entre los datos de las tablas\n",
    "- Datetime : Librería para cargar datos de fechas\n",
    "- Matplotlib: Librería para poder realizar gráficos"
   ]
  },
  {
   "cell_type": "code",
   "execution_count": 1,
   "metadata": {},
   "outputs": [],
   "source": [
    "##### Importamos librerias\n",
    "import pandas as pd\n",
    "import numpy as np\n",
    "import datetime\n",
    "import matplotlib.pyplot as plt"
   ]
  },
  {
   "cell_type": "markdown",
   "metadata": {},
   "source": [
    "Leemos los archivos de los datasets en Excel (de preferencia en este tipo para poder visualizarlos en una tabla de Excel)\n",
    "Tenemos 3 archivos de dataset:\n",
    "1. Dataset de Poblacion por distrito y edad\n",
    "2. Dataset de los casos positivos  \n",
    "3. Dataset de los fallecidos "
   ]
  },
  {
   "cell_type": "code",
   "execution_count": 2,
   "metadata": {},
   "outputs": [
    {
     "data": {
      "text/html": [
       "<div>\n",
       "<style scoped>\n",
       "    .dataframe tbody tr th:only-of-type {\n",
       "        vertical-align: middle;\n",
       "    }\n",
       "\n",
       "    .dataframe tbody tr th {\n",
       "        vertical-align: top;\n",
       "    }\n",
       "\n",
       "    .dataframe thead th {\n",
       "        text-align: right;\n",
       "    }\n",
       "</style>\n",
       "<table border=\"1\" class=\"dataframe\">\n",
       "  <thead>\n",
       "    <tr style=\"text-align: right;\">\n",
       "      <th></th>\n",
       "      <th>Código</th>\n",
       "      <th>CONCATENADO</th>\n",
       "      <th>Código.1</th>\n",
       "      <th>POBLACION</th>\n",
       "      <th>Departamento</th>\n",
       "      <th>Provincia</th>\n",
       "      <th>Distrito</th>\n",
       "      <th>Edad 0</th>\n",
       "      <th>Edad 1 año</th>\n",
       "      <th>Edad 2 años</th>\n",
       "      <th>...</th>\n",
       "      <th>Edad 106 años</th>\n",
       "      <th>Edad 107 años</th>\n",
       "      <th>Edad 108 años</th>\n",
       "      <th>Edad 109 años</th>\n",
       "      <th>Edad 110 años</th>\n",
       "      <th>Edad 111 años</th>\n",
       "      <th>Edad 112 años</th>\n",
       "      <th>Edad 113 años</th>\n",
       "      <th>Edad 114 años</th>\n",
       "      <th>Edad 115 años</th>\n",
       "    </tr>\n",
       "  </thead>\n",
       "  <tbody>\n",
       "    <tr>\n",
       "      <th>0</th>\n",
       "      <td>10101</td>\n",
       "      <td>AMAZONASCHACHAPOYASCHACHAPOYAS</td>\n",
       "      <td>10101</td>\n",
       "      <td>32589.0</td>\n",
       "      <td>Amazonas</td>\n",
       "      <td>Chachapoyas</td>\n",
       "      <td>Chachapoyas</td>\n",
       "      <td>528.0</td>\n",
       "      <td>510.0</td>\n",
       "      <td>515.0</td>\n",
       "      <td>...</td>\n",
       "      <td>1.0</td>\n",
       "      <td>0.0</td>\n",
       "      <td>0.0</td>\n",
       "      <td>0.0</td>\n",
       "      <td>0.0</td>\n",
       "      <td>0.0</td>\n",
       "      <td>0.0</td>\n",
       "      <td>0.0</td>\n",
       "      <td>0.0</td>\n",
       "      <td>0.0</td>\n",
       "    </tr>\n",
       "    <tr>\n",
       "      <th>1</th>\n",
       "      <td>10102</td>\n",
       "      <td>AMAZONASCHACHAPOYASASUNCION</td>\n",
       "      <td>10102</td>\n",
       "      <td>262.0</td>\n",
       "      <td>Amazonas</td>\n",
       "      <td>Chachapoyas</td>\n",
       "      <td>Asuncion</td>\n",
       "      <td>6.0</td>\n",
       "      <td>3.0</td>\n",
       "      <td>3.0</td>\n",
       "      <td>...</td>\n",
       "      <td>0.0</td>\n",
       "      <td>0.0</td>\n",
       "      <td>0.0</td>\n",
       "      <td>0.0</td>\n",
       "      <td>0.0</td>\n",
       "      <td>0.0</td>\n",
       "      <td>0.0</td>\n",
       "      <td>0.0</td>\n",
       "      <td>0.0</td>\n",
       "      <td>0.0</td>\n",
       "    </tr>\n",
       "    <tr>\n",
       "      <th>2</th>\n",
       "      <td>10103</td>\n",
       "      <td>AMAZONASCHACHAPOYASBALSAS</td>\n",
       "      <td>10103</td>\n",
       "      <td>1136.0</td>\n",
       "      <td>Amazonas</td>\n",
       "      <td>Chachapoyas</td>\n",
       "      <td>Balsas</td>\n",
       "      <td>21.0</td>\n",
       "      <td>25.0</td>\n",
       "      <td>24.0</td>\n",
       "      <td>...</td>\n",
       "      <td>0.0</td>\n",
       "      <td>0.0</td>\n",
       "      <td>0.0</td>\n",
       "      <td>0.0</td>\n",
       "      <td>0.0</td>\n",
       "      <td>0.0</td>\n",
       "      <td>0.0</td>\n",
       "      <td>0.0</td>\n",
       "      <td>0.0</td>\n",
       "      <td>0.0</td>\n",
       "    </tr>\n",
       "    <tr>\n",
       "      <th>3</th>\n",
       "      <td>10104</td>\n",
       "      <td>AMAZONASCHACHAPOYASCHETO</td>\n",
       "      <td>10104</td>\n",
       "      <td>642.0</td>\n",
       "      <td>Amazonas</td>\n",
       "      <td>Chachapoyas</td>\n",
       "      <td>Cheto</td>\n",
       "      <td>13.0</td>\n",
       "      <td>9.0</td>\n",
       "      <td>8.0</td>\n",
       "      <td>...</td>\n",
       "      <td>0.0</td>\n",
       "      <td>0.0</td>\n",
       "      <td>0.0</td>\n",
       "      <td>0.0</td>\n",
       "      <td>0.0</td>\n",
       "      <td>0.0</td>\n",
       "      <td>0.0</td>\n",
       "      <td>0.0</td>\n",
       "      <td>0.0</td>\n",
       "      <td>0.0</td>\n",
       "    </tr>\n",
       "    <tr>\n",
       "      <th>4</th>\n",
       "      <td>10105</td>\n",
       "      <td>AMAZONASCHACHAPOYASCHILIQUIN</td>\n",
       "      <td>10105</td>\n",
       "      <td>585.0</td>\n",
       "      <td>Amazonas</td>\n",
       "      <td>Chachapoyas</td>\n",
       "      <td>Chiliquin</td>\n",
       "      <td>8.0</td>\n",
       "      <td>8.0</td>\n",
       "      <td>12.0</td>\n",
       "      <td>...</td>\n",
       "      <td>0.0</td>\n",
       "      <td>0.0</td>\n",
       "      <td>0.0</td>\n",
       "      <td>0.0</td>\n",
       "      <td>0.0</td>\n",
       "      <td>0.0</td>\n",
       "      <td>0.0</td>\n",
       "      <td>0.0</td>\n",
       "      <td>0.0</td>\n",
       "      <td>0.0</td>\n",
       "    </tr>\n",
       "  </tbody>\n",
       "</table>\n",
       "<p>5 rows × 123 columns</p>\n",
       "</div>"
      ],
      "text/plain": [
       "  Código                     CONCATENADO Código.1  POBLACION Departamento   \\\n",
       "0  10101  AMAZONASCHACHAPOYASCHACHAPOYAS    10101    32589.0      Amazonas   \n",
       "1  10102     AMAZONASCHACHAPOYASASUNCION    10102      262.0      Amazonas   \n",
       "2  10103       AMAZONASCHACHAPOYASBALSAS    10103     1136.0      Amazonas   \n",
       "3  10104        AMAZONASCHACHAPOYASCHETO    10104      642.0      Amazonas   \n",
       "4  10105    AMAZONASCHACHAPOYASCHILIQUIN    10105      585.0      Amazonas   \n",
       "\n",
       "     Provincia     Distrito  Edad 0  Edad 1 año  Edad 2 años  ...  \\\n",
       "0  Chachapoyas  Chachapoyas   528.0       510.0        515.0  ...   \n",
       "1  Chachapoyas     Asuncion     6.0         3.0          3.0  ...   \n",
       "2  Chachapoyas       Balsas    21.0        25.0         24.0  ...   \n",
       "3  Chachapoyas        Cheto    13.0         9.0          8.0  ...   \n",
       "4  Chachapoyas    Chiliquin     8.0         8.0         12.0  ...   \n",
       "\n",
       "   Edad 106 años  Edad 107 años  Edad 108 años  Edad 109 años  Edad 110 años  \\\n",
       "0            1.0            0.0            0.0            0.0            0.0   \n",
       "1            0.0            0.0            0.0            0.0            0.0   \n",
       "2            0.0            0.0            0.0            0.0            0.0   \n",
       "3            0.0            0.0            0.0            0.0            0.0   \n",
       "4            0.0            0.0            0.0            0.0            0.0   \n",
       "\n",
       "   Edad 111 años  Edad 112 años  Edad 113 años  Edad 114 años  Edad 115 años  \n",
       "0            0.0            0.0            0.0            0.0            0.0  \n",
       "1            0.0            0.0            0.0            0.0            0.0  \n",
       "2            0.0            0.0            0.0            0.0            0.0  \n",
       "3            0.0            0.0            0.0            0.0            0.0  \n",
       "4            0.0            0.0            0.0            0.0            0.0  \n",
       "\n",
       "[5 rows x 123 columns]"
      ]
     },
     "execution_count": 2,
     "metadata": {},
     "output_type": "execute_result"
    }
   ],
   "source": [
    "## Data de población se asigna a la variable df_pob \n",
    "df_pob = pd.read_excel('../data/poblacion_por_distrito_y_edad.xlsx')\n",
    "df_pob.head()"
   ]
  },
  {
   "cell_type": "code",
   "execution_count": 3,
   "metadata": {},
   "outputs": [
    {
     "data": {
      "text/html": [
       "<div>\n",
       "<style scoped>\n",
       "    .dataframe tbody tr th:only-of-type {\n",
       "        vertical-align: middle;\n",
       "    }\n",
       "\n",
       "    .dataframe tbody tr th {\n",
       "        vertical-align: top;\n",
       "    }\n",
       "\n",
       "    .dataframe thead th {\n",
       "        text-align: right;\n",
       "    }\n",
       "</style>\n",
       "<table border=\"1\" class=\"dataframe\">\n",
       "  <thead>\n",
       "    <tr style=\"text-align: right;\">\n",
       "      <th></th>\n",
       "      <th>FECHA_CORTE</th>\n",
       "      <th>UUID</th>\n",
       "      <th>DEPARTAMENTO</th>\n",
       "      <th>PROVINCIA</th>\n",
       "      <th>DISTRITO</th>\n",
       "      <th>METODODX</th>\n",
       "      <th>EDAD</th>\n",
       "      <th>SEXO</th>\n",
       "      <th>FECHA_RESULTADO</th>\n",
       "    </tr>\n",
       "  </thead>\n",
       "  <tbody>\n",
       "    <tr>\n",
       "      <th>0</th>\n",
       "      <td>20201014</td>\n",
       "      <td>7320cabdc1aaca6c59014cae76a134e6</td>\n",
       "      <td>LIMA REGION</td>\n",
       "      <td>EN INVESTIGACIÓN</td>\n",
       "      <td>EN INVESTIGACIÓN</td>\n",
       "      <td>PCR</td>\n",
       "      <td>41.0</td>\n",
       "      <td>MASCULINO</td>\n",
       "      <td>20200527</td>\n",
       "    </tr>\n",
       "    <tr>\n",
       "      <th>1</th>\n",
       "      <td>20201014</td>\n",
       "      <td>e81602051997ace8340bb8c18fe24c65</td>\n",
       "      <td>LIMA</td>\n",
       "      <td>LIMA</td>\n",
       "      <td>BREÑA</td>\n",
       "      <td>PCR</td>\n",
       "      <td>41.0</td>\n",
       "      <td>MASCULINO</td>\n",
       "      <td>20200511</td>\n",
       "    </tr>\n",
       "    <tr>\n",
       "      <th>2</th>\n",
       "      <td>20201014</td>\n",
       "      <td>cecdbf10074dbc011ae05b3cbd320a6f</td>\n",
       "      <td>LIMA</td>\n",
       "      <td>LIMA</td>\n",
       "      <td>LIMA</td>\n",
       "      <td>PCR</td>\n",
       "      <td>51.0</td>\n",
       "      <td>MASCULINO</td>\n",
       "      <td>20200411</td>\n",
       "    </tr>\n",
       "    <tr>\n",
       "      <th>3</th>\n",
       "      <td>20201014</td>\n",
       "      <td>71ecb6bccb248b0bb2ac72ed51b5e979</td>\n",
       "      <td>LIMA</td>\n",
       "      <td>LIMA</td>\n",
       "      <td>SAN BORJA</td>\n",
       "      <td>PCR</td>\n",
       "      <td>26.0</td>\n",
       "      <td>FEMENINO</td>\n",
       "      <td>20200411</td>\n",
       "    </tr>\n",
       "    <tr>\n",
       "      <th>4</th>\n",
       "      <td>20201014</td>\n",
       "      <td>566af4276cbe9359abe93f9aa86396c3</td>\n",
       "      <td>CALLAO</td>\n",
       "      <td>CALLAO</td>\n",
       "      <td>BELLAVISTA</td>\n",
       "      <td>PCR</td>\n",
       "      <td>47.0</td>\n",
       "      <td>MASCULINO</td>\n",
       "      <td>20200415</td>\n",
       "    </tr>\n",
       "  </tbody>\n",
       "</table>\n",
       "</div>"
      ],
      "text/plain": [
       "   FECHA_CORTE                              UUID DEPARTAMENTO  \\\n",
       "0     20201014  7320cabdc1aaca6c59014cae76a134e6  LIMA REGION   \n",
       "1     20201014  e81602051997ace8340bb8c18fe24c65         LIMA   \n",
       "2     20201014  cecdbf10074dbc011ae05b3cbd320a6f         LIMA   \n",
       "3     20201014  71ecb6bccb248b0bb2ac72ed51b5e979         LIMA   \n",
       "4     20201014  566af4276cbe9359abe93f9aa86396c3       CALLAO   \n",
       "\n",
       "          PROVINCIA          DISTRITO METODODX  EDAD       SEXO  \\\n",
       "0  EN INVESTIGACIÓN  EN INVESTIGACIÓN      PCR  41.0  MASCULINO   \n",
       "1              LIMA             BREÑA      PCR  41.0  MASCULINO   \n",
       "2              LIMA              LIMA      PCR  51.0  MASCULINO   \n",
       "3              LIMA         SAN BORJA      PCR  26.0   FEMENINO   \n",
       "4            CALLAO        BELLAVISTA      PCR  47.0  MASCULINO   \n",
       "\n",
       "   FECHA_RESULTADO  \n",
       "0         20200527  \n",
       "1         20200511  \n",
       "2         20200411  \n",
       "3         20200411  \n",
       "4         20200415  "
      ]
     },
     "execution_count": 3,
     "metadata": {},
     "output_type": "execute_result"
    }
   ],
   "source": [
    "# Data de positivos se asigna a la variable df_pos\n",
    "df_pos= pd.read_excel('../data/positivos_covid.xlsx')\n",
    "df_pos.head()"
   ]
  },
  {
   "cell_type": "code",
   "execution_count": 4,
   "metadata": {},
   "outputs": [
    {
     "data": {
      "text/html": [
       "<div>\n",
       "<style scoped>\n",
       "    .dataframe tbody tr th:only-of-type {\n",
       "        vertical-align: middle;\n",
       "    }\n",
       "\n",
       "    .dataframe tbody tr th {\n",
       "        vertical-align: top;\n",
       "    }\n",
       "\n",
       "    .dataframe thead th {\n",
       "        text-align: right;\n",
       "    }\n",
       "</style>\n",
       "<table border=\"1\" class=\"dataframe\">\n",
       "  <thead>\n",
       "    <tr style=\"text-align: right;\">\n",
       "      <th></th>\n",
       "      <th>FECHA_CORTE</th>\n",
       "      <th>UUID</th>\n",
       "      <th>FECHA_FALLECIMIENTO</th>\n",
       "      <th>EDAD_DECLARADA</th>\n",
       "      <th>SEXO</th>\n",
       "      <th>FECHA_NAC</th>\n",
       "      <th>DEPARTAMENTO</th>\n",
       "      <th>PROVINCIA</th>\n",
       "      <th>DISTRITO</th>\n",
       "    </tr>\n",
       "  </thead>\n",
       "  <tbody>\n",
       "    <tr>\n",
       "      <th>0</th>\n",
       "      <td>20201011</td>\n",
       "      <td>a253898e0cbd01a659262fba70335682</td>\n",
       "      <td>20200718</td>\n",
       "      <td>35</td>\n",
       "      <td>MASCULINO</td>\n",
       "      <td>19850529.0</td>\n",
       "      <td>LIMA</td>\n",
       "      <td>LIMA</td>\n",
       "      <td>EL AGUSTINO</td>\n",
       "    </tr>\n",
       "    <tr>\n",
       "      <th>1</th>\n",
       "      <td>20201011</td>\n",
       "      <td>857cef4883d2c5175da3e584704f0dff</td>\n",
       "      <td>20200718</td>\n",
       "      <td>35</td>\n",
       "      <td>MASCULINO</td>\n",
       "      <td>19850404.0</td>\n",
       "      <td>PIURA</td>\n",
       "      <td>AYABACA</td>\n",
       "      <td>PACAIPAMPA</td>\n",
       "    </tr>\n",
       "    <tr>\n",
       "      <th>2</th>\n",
       "      <td>20201011</td>\n",
       "      <td>945f5857768c9a5983fe64a9d6e3348d</td>\n",
       "      <td>20200718</td>\n",
       "      <td>36</td>\n",
       "      <td>MASCULINO</td>\n",
       "      <td>19830902.0</td>\n",
       "      <td>HUANUCO</td>\n",
       "      <td>LEONCIO PRADO</td>\n",
       "      <td>RUPA-RUPA</td>\n",
       "    </tr>\n",
       "    <tr>\n",
       "      <th>3</th>\n",
       "      <td>20201011</td>\n",
       "      <td>0846783a3b295178038282d7df20a8a9</td>\n",
       "      <td>20200718</td>\n",
       "      <td>37</td>\n",
       "      <td>FEMENINO</td>\n",
       "      <td>19830122.0</td>\n",
       "      <td>LIMA</td>\n",
       "      <td>LIMA</td>\n",
       "      <td>SAN MARTIN DE PORRES</td>\n",
       "    </tr>\n",
       "    <tr>\n",
       "      <th>4</th>\n",
       "      <td>20201011</td>\n",
       "      <td>b3694b6ea2cc46ba99385682c15cb0de</td>\n",
       "      <td>20200718</td>\n",
       "      <td>40</td>\n",
       "      <td>FEMENINO</td>\n",
       "      <td>19800611.0</td>\n",
       "      <td>LIMA</td>\n",
       "      <td>CAÑETE</td>\n",
       "      <td>SAN VICENTE DE CAÑETE</td>\n",
       "    </tr>\n",
       "  </tbody>\n",
       "</table>\n",
       "</div>"
      ],
      "text/plain": [
       "   FECHA_CORTE                              UUID  FECHA_FALLECIMIENTO  \\\n",
       "0     20201011  a253898e0cbd01a659262fba70335682             20200718   \n",
       "1     20201011  857cef4883d2c5175da3e584704f0dff             20200718   \n",
       "2     20201011  945f5857768c9a5983fe64a9d6e3348d             20200718   \n",
       "3     20201011  0846783a3b295178038282d7df20a8a9             20200718   \n",
       "4     20201011  b3694b6ea2cc46ba99385682c15cb0de             20200718   \n",
       "\n",
       "   EDAD_DECLARADA       SEXO   FECHA_NAC DEPARTAMENTO      PROVINCIA  \\\n",
       "0              35  MASCULINO  19850529.0         LIMA           LIMA   \n",
       "1              35  MASCULINO  19850404.0        PIURA        AYABACA   \n",
       "2              36  MASCULINO  19830902.0      HUANUCO  LEONCIO PRADO   \n",
       "3              37   FEMENINO  19830122.0         LIMA           LIMA   \n",
       "4              40   FEMENINO  19800611.0         LIMA         CAÑETE   \n",
       "\n",
       "                DISTRITO  \n",
       "0            EL AGUSTINO  \n",
       "1             PACAIPAMPA  \n",
       "2              RUPA-RUPA  \n",
       "3   SAN MARTIN DE PORRES  \n",
       "4  SAN VICENTE DE CAÑETE  "
      ]
     },
     "execution_count": 4,
     "metadata": {},
     "output_type": "execute_result"
    }
   ],
   "source": [
    "# Data de fallecidos se asigna a la variable df_fad\n",
    "df_fad = pd.read_excel('../data/fallecidos_covid.xlsx')\n",
    "df_fad.head()"
   ]
  },
  {
   "cell_type": "markdown",
   "metadata": {},
   "source": [
    "#  Pregunta 1 :\n",
    "\n",
    "**¿Cuál es el distrito con mayor probabilidad de tener una segunda ola**\n"
   ]
  },
  {
   "cell_type": "markdown",
   "metadata": {},
   "source": [
    "Para obetener la probabilidad de que en una población determinada ocurra una segunda ola de contagios,\n",
    "haremos el siguiente cálculo:\n",
    "\n",
    "$$\n",
    "P = \\frac{Poblacion Remanente}{Poblacion Total}\n",
    "$$\n",
    "\n",
    "Donde **P** representa la probabilidad de una segunda ola y la **población remanente** sería la diferencia entre la población total y el número registrado de casos positivos en dicha población."
   ]
  },
  {
   "cell_type": "markdown",
   "metadata": {},
   "source": [
    "## Dataset de poblacion por distrito"
   ]
  },
  {
   "cell_type": "markdown",
   "metadata": {},
   "source": [
    "Entonces para calcular dicha probabilidad tenemos que hallar la población por distrito en este caso filtraremos solo ciertas columnas para que el fin que requerimos."
   ]
  },
  {
   "cell_type": "code",
   "execution_count": 5,
   "metadata": {},
   "outputs": [
    {
     "data": {
      "text/html": [
       "<div>\n",
       "<style scoped>\n",
       "    .dataframe tbody tr th:only-of-type {\n",
       "        vertical-align: middle;\n",
       "    }\n",
       "\n",
       "    .dataframe tbody tr th {\n",
       "        vertical-align: top;\n",
       "    }\n",
       "\n",
       "    .dataframe thead th {\n",
       "        text-align: right;\n",
       "    }\n",
       "</style>\n",
       "<table border=\"1\" class=\"dataframe\">\n",
       "  <thead>\n",
       "    <tr style=\"text-align: right;\">\n",
       "      <th></th>\n",
       "      <th>CONCATENADO</th>\n",
       "      <th>POBLACION</th>\n",
       "      <th>Departamento</th>\n",
       "      <th>Provincia</th>\n",
       "      <th>Distrito</th>\n",
       "    </tr>\n",
       "  </thead>\n",
       "  <tbody>\n",
       "    <tr>\n",
       "      <th>0</th>\n",
       "      <td>AMAZONASCHACHAPOYASCHACHAPOYAS</td>\n",
       "      <td>32589.0</td>\n",
       "      <td>Amazonas</td>\n",
       "      <td>Chachapoyas</td>\n",
       "      <td>Chachapoyas</td>\n",
       "    </tr>\n",
       "    <tr>\n",
       "      <th>1</th>\n",
       "      <td>AMAZONASCHACHAPOYASASUNCION</td>\n",
       "      <td>262.0</td>\n",
       "      <td>Amazonas</td>\n",
       "      <td>Chachapoyas</td>\n",
       "      <td>Asuncion</td>\n",
       "    </tr>\n",
       "    <tr>\n",
       "      <th>2</th>\n",
       "      <td>AMAZONASCHACHAPOYASBALSAS</td>\n",
       "      <td>1136.0</td>\n",
       "      <td>Amazonas</td>\n",
       "      <td>Chachapoyas</td>\n",
       "      <td>Balsas</td>\n",
       "    </tr>\n",
       "    <tr>\n",
       "      <th>3</th>\n",
       "      <td>AMAZONASCHACHAPOYASCHETO</td>\n",
       "      <td>642.0</td>\n",
       "      <td>Amazonas</td>\n",
       "      <td>Chachapoyas</td>\n",
       "      <td>Cheto</td>\n",
       "    </tr>\n",
       "    <tr>\n",
       "      <th>4</th>\n",
       "      <td>AMAZONASCHACHAPOYASCHILIQUIN</td>\n",
       "      <td>585.0</td>\n",
       "      <td>Amazonas</td>\n",
       "      <td>Chachapoyas</td>\n",
       "      <td>Chiliquin</td>\n",
       "    </tr>\n",
       "  </tbody>\n",
       "</table>\n",
       "</div>"
      ],
      "text/plain": [
       "                      CONCATENADO  POBLACION Departamento    Provincia  \\\n",
       "0  AMAZONASCHACHAPOYASCHACHAPOYAS    32589.0     Amazonas  Chachapoyas   \n",
       "1     AMAZONASCHACHAPOYASASUNCION      262.0     Amazonas  Chachapoyas   \n",
       "2       AMAZONASCHACHAPOYASBALSAS     1136.0     Amazonas  Chachapoyas   \n",
       "3        AMAZONASCHACHAPOYASCHETO      642.0     Amazonas  Chachapoyas   \n",
       "4    AMAZONASCHACHAPOYASCHILIQUIN      585.0     Amazonas  Chachapoyas   \n",
       "\n",
       "      Distrito  \n",
       "0  Chachapoyas  \n",
       "1     Asuncion  \n",
       "2       Balsas  \n",
       "3        Cheto  \n",
       "4    Chiliquin  "
      ]
     },
     "execution_count": 5,
     "metadata": {},
     "output_type": "execute_result"
    }
   ],
   "source": [
    "df_pob = df_pob.dropna() ## se suprimen los datos faltantes\n",
    "df_pob.columns = df_pob.columns.str.strip() # borrar los espacios en las columnas que pueden estar\n",
    "\n",
    "df_pob_distr = df_pob[['CONCATENADO', 'POBLACION', 'Departamento', 'Provincia', 'Distrito']] ##asignamos a una nueva variable \n",
    "df_pob_distr.head()"
   ]
  },
  {
   "cell_type": "markdown",
   "metadata": {},
   "source": [
    "Con esto ya tenemos listo nuestros datos de poblacion por distrito para poder cruzar con los datos de positivos COVID."
   ]
  },
  {
   "cell_type": "markdown",
   "metadata": {},
   "source": [
    "## Dataset de positivos por distrito"
   ]
  },
  {
   "cell_type": "markdown",
   "metadata": {},
   "source": [
    "Para hallar la cantidad de positivos por distrito hacemos uso del dataset ya cargado de los positivos a nivel nacional, y realizamos el conteo asignando a cada distrito."
   ]
  },
  {
   "cell_type": "code",
   "execution_count": 6,
   "metadata": {},
   "outputs": [],
   "source": [
    "#Empezamos de los datos del total de positivos a nivel nacional\n",
    "df_pos = df_pos.dropna() ## eliminamos filas de datos faltantes\n",
    "# En el caso de los datos positivos aparece LIMA REGION para poder hacer el cruce correcto con la población total\n",
    "# entonces cambiaremos este dato a LIMA\n",
    "ind_LR = df_pos[df_pos['DEPARTAMENTO'] == 'LIMA REGION'].index ## cargamos los indices\n",
    "df_pos.loc[ind_LR, 'DEPARTAMENTO'] = 'LIMA' ##asignamos ahora LIMA"
   ]
  },
  {
   "cell_type": "markdown",
   "metadata": {},
   "source": [
    "Se realiza ahora el conteo de positivos para cada distrito, entonces tendremos como resultado nuestro dataset con el CONCATENADO."
   ]
  },
  {
   "cell_type": "code",
   "execution_count": 7,
   "metadata": {
    "scrolled": true
   },
   "outputs": [
    {
     "data": {
      "text/html": [
       "<div>\n",
       "<style scoped>\n",
       "    .dataframe tbody tr th:only-of-type {\n",
       "        vertical-align: middle;\n",
       "    }\n",
       "\n",
       "    .dataframe tbody tr th {\n",
       "        vertical-align: top;\n",
       "    }\n",
       "\n",
       "    .dataframe thead th {\n",
       "        text-align: right;\n",
       "    }\n",
       "</style>\n",
       "<table border=\"1\" class=\"dataframe\">\n",
       "  <thead>\n",
       "    <tr style=\"text-align: right;\">\n",
       "      <th></th>\n",
       "      <th>FECHA_CORTE</th>\n",
       "      <th>UUID</th>\n",
       "      <th>DEPARTAMENTO</th>\n",
       "      <th>PROVINCIA</th>\n",
       "      <th>DISTRITO</th>\n",
       "      <th>METODODX</th>\n",
       "      <th>EDAD</th>\n",
       "      <th>SEXO</th>\n",
       "      <th>FECHA_RESULTADO</th>\n",
       "      <th>CONCATENADO</th>\n",
       "    </tr>\n",
       "  </thead>\n",
       "  <tbody>\n",
       "    <tr>\n",
       "      <th>0</th>\n",
       "      <td>20201014</td>\n",
       "      <td>7320cabdc1aaca6c59014cae76a134e6</td>\n",
       "      <td>LIMA</td>\n",
       "      <td>EN INVESTIGACIÓN</td>\n",
       "      <td>EN INVESTIGACIÓN</td>\n",
       "      <td>PCR</td>\n",
       "      <td>41.0</td>\n",
       "      <td>MASCULINO</td>\n",
       "      <td>20200527</td>\n",
       "      <td>LIMAEN INVESTIGACIÓNEN INVESTIGACIÓN</td>\n",
       "    </tr>\n",
       "    <tr>\n",
       "      <th>1</th>\n",
       "      <td>20201014</td>\n",
       "      <td>e81602051997ace8340bb8c18fe24c65</td>\n",
       "      <td>LIMA</td>\n",
       "      <td>LIMA</td>\n",
       "      <td>BREÑA</td>\n",
       "      <td>PCR</td>\n",
       "      <td>41.0</td>\n",
       "      <td>MASCULINO</td>\n",
       "      <td>20200511</td>\n",
       "      <td>LIMALIMABREÑA</td>\n",
       "    </tr>\n",
       "    <tr>\n",
       "      <th>2</th>\n",
       "      <td>20201014</td>\n",
       "      <td>cecdbf10074dbc011ae05b3cbd320a6f</td>\n",
       "      <td>LIMA</td>\n",
       "      <td>LIMA</td>\n",
       "      <td>LIMA</td>\n",
       "      <td>PCR</td>\n",
       "      <td>51.0</td>\n",
       "      <td>MASCULINO</td>\n",
       "      <td>20200411</td>\n",
       "      <td>LIMALIMALIMA</td>\n",
       "    </tr>\n",
       "    <tr>\n",
       "      <th>3</th>\n",
       "      <td>20201014</td>\n",
       "      <td>71ecb6bccb248b0bb2ac72ed51b5e979</td>\n",
       "      <td>LIMA</td>\n",
       "      <td>LIMA</td>\n",
       "      <td>SAN BORJA</td>\n",
       "      <td>PCR</td>\n",
       "      <td>26.0</td>\n",
       "      <td>FEMENINO</td>\n",
       "      <td>20200411</td>\n",
       "      <td>LIMALIMASAN BORJA</td>\n",
       "    </tr>\n",
       "    <tr>\n",
       "      <th>4</th>\n",
       "      <td>20201014</td>\n",
       "      <td>566af4276cbe9359abe93f9aa86396c3</td>\n",
       "      <td>CALLAO</td>\n",
       "      <td>CALLAO</td>\n",
       "      <td>BELLAVISTA</td>\n",
       "      <td>PCR</td>\n",
       "      <td>47.0</td>\n",
       "      <td>MASCULINO</td>\n",
       "      <td>20200415</td>\n",
       "      <td>CALLAOCALLAOBELLAVISTA</td>\n",
       "    </tr>\n",
       "  </tbody>\n",
       "</table>\n",
       "</div>"
      ],
      "text/plain": [
       "   FECHA_CORTE                              UUID DEPARTAMENTO  \\\n",
       "0     20201014  7320cabdc1aaca6c59014cae76a134e6         LIMA   \n",
       "1     20201014  e81602051997ace8340bb8c18fe24c65         LIMA   \n",
       "2     20201014  cecdbf10074dbc011ae05b3cbd320a6f         LIMA   \n",
       "3     20201014  71ecb6bccb248b0bb2ac72ed51b5e979         LIMA   \n",
       "4     20201014  566af4276cbe9359abe93f9aa86396c3       CALLAO   \n",
       "\n",
       "          PROVINCIA          DISTRITO METODODX  EDAD       SEXO  \\\n",
       "0  EN INVESTIGACIÓN  EN INVESTIGACIÓN      PCR  41.0  MASCULINO   \n",
       "1              LIMA             BREÑA      PCR  41.0  MASCULINO   \n",
       "2              LIMA              LIMA      PCR  51.0  MASCULINO   \n",
       "3              LIMA         SAN BORJA      PCR  26.0   FEMENINO   \n",
       "4            CALLAO        BELLAVISTA      PCR  47.0  MASCULINO   \n",
       "\n",
       "   FECHA_RESULTADO                           CONCATENADO  \n",
       "0         20200527  LIMAEN INVESTIGACIÓNEN INVESTIGACIÓN  \n",
       "1         20200511                         LIMALIMABREÑA  \n",
       "2         20200411                          LIMALIMALIMA  \n",
       "3         20200411                     LIMALIMASAN BORJA  \n",
       "4         20200415                CALLAOCALLAOBELLAVISTA  "
      ]
     },
     "execution_count": 7,
     "metadata": {},
     "output_type": "execute_result"
    }
   ],
   "source": [
    "df_pos['CONCATENADO'] = df_pos['DEPARTAMENTO'] + df_pos['PROVINCIA'] + df_pos['DISTRITO']\n",
    "df_pos.head()"
   ]
  },
  {
   "cell_type": "markdown",
   "metadata": {},
   "source": [
    "Realizamos el conteo para cada CONCATENADO que representa un distrito en específico, entonces la tabla siguiente mostrará la cantidad de positivos por distrtito a nivel nacional."
   ]
  },
  {
   "cell_type": "code",
   "execution_count": 8,
   "metadata": {},
   "outputs": [
    {
     "data": {
      "text/html": [
       "<div>\n",
       "<style scoped>\n",
       "    .dataframe tbody tr th:only-of-type {\n",
       "        vertical-align: middle;\n",
       "    }\n",
       "\n",
       "    .dataframe tbody tr th {\n",
       "        vertical-align: top;\n",
       "    }\n",
       "\n",
       "    .dataframe thead th {\n",
       "        text-align: right;\n",
       "    }\n",
       "</style>\n",
       "<table border=\"1\" class=\"dataframe\">\n",
       "  <thead>\n",
       "    <tr style=\"text-align: right;\">\n",
       "      <th></th>\n",
       "      <th>CONCATENADO</th>\n",
       "      <th>CANTIDAD DE POSITIVOS</th>\n",
       "    </tr>\n",
       "  </thead>\n",
       "  <tbody>\n",
       "    <tr>\n",
       "      <th>0</th>\n",
       "      <td>LIMAEN INVESTIGACIÓNEN INVESTIGACIÓN</td>\n",
       "      <td>29648</td>\n",
       "    </tr>\n",
       "    <tr>\n",
       "      <th>1</th>\n",
       "      <td>LIMALIMABREÑA</td>\n",
       "      <td>4347</td>\n",
       "    </tr>\n",
       "    <tr>\n",
       "      <th>2</th>\n",
       "      <td>LIMALIMALIMA</td>\n",
       "      <td>30963</td>\n",
       "    </tr>\n",
       "    <tr>\n",
       "      <th>3</th>\n",
       "      <td>LIMALIMASAN BORJA</td>\n",
       "      <td>4231</td>\n",
       "    </tr>\n",
       "    <tr>\n",
       "      <th>4</th>\n",
       "      <td>CALLAOCALLAOBELLAVISTA</td>\n",
       "      <td>7132</td>\n",
       "    </tr>\n",
       "  </tbody>\n",
       "</table>\n",
       "</div>"
      ],
      "text/plain": [
       "                            CONCATENADO  CANTIDAD DE POSITIVOS\n",
       "0  LIMAEN INVESTIGACIÓNEN INVESTIGACIÓN                  29648\n",
       "1                         LIMALIMABREÑA                   4347\n",
       "2                          LIMALIMALIMA                  30963\n",
       "3                     LIMALIMASAN BORJA                   4231\n",
       "4                CALLAOCALLAOBELLAVISTA                   7132"
      ]
     },
     "execution_count": 8,
     "metadata": {},
     "output_type": "execute_result"
    }
   ],
   "source": [
    "df_pos_dis = pd.DataFrame()\n",
    "df_pos_dis['CONCATENADO'] = df_pos['CONCATENADO'].unique()\n",
    "\n",
    "df_pos_dis['CANTIDAD DE POSITIVOS']  = 0\n",
    "\n",
    "df_pos_dis.set_index('CONCATENADO', inplace = True)\n",
    "\n",
    "for dist in df_pos_dis.index:\n",
    "    conteo = df_pos[df_pos['CONCATENADO'] == dist]['CONCATENADO'].count()\n",
    "    df_pos_dis['CANTIDAD DE POSITIVOS'].loc[dist] = conteo\n",
    "\n",
    "df_pos_dis = df_pos_dis.reset_index()\n",
    "\n",
    "df_pos_dis.head()"
   ]
  },
  {
   "cell_type": "markdown",
   "metadata": {},
   "source": [
    "### Realizamos el cruce entre el dataset de Positivos por distrito y la Poblacion por distrito\n",
    "\n",
    "Aqui usamos los datasets de Poblacion por distrito y Positivos por dsitrito; y cruzamos con la llave de CONCATENADO"
   ]
  },
  {
   "cell_type": "code",
   "execution_count": 9,
   "metadata": {},
   "outputs": [
    {
     "data": {
      "text/html": [
       "<div>\n",
       "<style scoped>\n",
       "    .dataframe tbody tr th:only-of-type {\n",
       "        vertical-align: middle;\n",
       "    }\n",
       "\n",
       "    .dataframe tbody tr th {\n",
       "        vertical-align: top;\n",
       "    }\n",
       "\n",
       "    .dataframe thead th {\n",
       "        text-align: right;\n",
       "    }\n",
       "</style>\n",
       "<table border=\"1\" class=\"dataframe\">\n",
       "  <thead>\n",
       "    <tr style=\"text-align: right;\">\n",
       "      <th></th>\n",
       "      <th>CONCATENADO</th>\n",
       "      <th>CANTIDAD DE POSITIVOS</th>\n",
       "      <th>POBLACION</th>\n",
       "      <th>Departamento</th>\n",
       "      <th>Provincia</th>\n",
       "      <th>Distrito</th>\n",
       "    </tr>\n",
       "  </thead>\n",
       "  <tbody>\n",
       "    <tr>\n",
       "      <th>0</th>\n",
       "      <td>LIMALIMABREÑA</td>\n",
       "      <td>4347</td>\n",
       "      <td>85309.0</td>\n",
       "      <td>Lima</td>\n",
       "      <td>Lima</td>\n",
       "      <td>Breña</td>\n",
       "    </tr>\n",
       "    <tr>\n",
       "      <th>1</th>\n",
       "      <td>LIMALIMALIMA</td>\n",
       "      <td>30963</td>\n",
       "      <td>268352.0</td>\n",
       "      <td>Lima</td>\n",
       "      <td>Lima</td>\n",
       "      <td>Lima</td>\n",
       "    </tr>\n",
       "    <tr>\n",
       "      <th>2</th>\n",
       "      <td>LIMALIMASAN BORJA</td>\n",
       "      <td>4231</td>\n",
       "      <td>113247.0</td>\n",
       "      <td>Lima</td>\n",
       "      <td>Lima</td>\n",
       "      <td>San Borja</td>\n",
       "    </tr>\n",
       "    <tr>\n",
       "      <th>3</th>\n",
       "      <td>CALLAOCALLAOBELLAVISTA</td>\n",
       "      <td>7132</td>\n",
       "      <td>74851.0</td>\n",
       "      <td>Callao</td>\n",
       "      <td>Callao</td>\n",
       "      <td>Bellavista</td>\n",
       "    </tr>\n",
       "    <tr>\n",
       "      <th>4</th>\n",
       "      <td>LAMBAYEQUECHICLAYOCHICLAYO</td>\n",
       "      <td>9313</td>\n",
       "      <td>270496.0</td>\n",
       "      <td>Lambayeque</td>\n",
       "      <td>Chiclayo</td>\n",
       "      <td>Chiclayo</td>\n",
       "    </tr>\n",
       "  </tbody>\n",
       "</table>\n",
       "</div>"
      ],
      "text/plain": [
       "                  CONCATENADO  CANTIDAD DE POSITIVOS  POBLACION Departamento  \\\n",
       "0               LIMALIMABREÑA                   4347    85309.0         Lima   \n",
       "1                LIMALIMALIMA                  30963   268352.0         Lima   \n",
       "2           LIMALIMASAN BORJA                   4231   113247.0         Lima   \n",
       "3      CALLAOCALLAOBELLAVISTA                   7132    74851.0       Callao   \n",
       "4  LAMBAYEQUECHICLAYOCHICLAYO                   9313   270496.0   Lambayeque   \n",
       "\n",
       "  Provincia    Distrito  \n",
       "0      Lima       Breña  \n",
       "1      Lima        Lima  \n",
       "2      Lima   San Borja  \n",
       "3    Callao  Bellavista  \n",
       "4  Chiclayo    Chiclayo  "
      ]
     },
     "execution_count": 9,
     "metadata": {},
     "output_type": "execute_result"
    }
   ],
   "source": [
    "df_pod_pos =pd.merge(df_pos_dis, df_pob_distr, how = 'inner', left_on='CONCATENADO', right_on='CONCATENADO')\n",
    "df_pod_pos.head()"
   ]
  },
  {
   "cell_type": "markdown",
   "metadata": {},
   "source": [
    "Para calcular la probabilidad entonces calculamos la población remanente y luego se divide con la población total en cada distrito"
   ]
  },
  {
   "cell_type": "code",
   "execution_count": 10,
   "metadata": {},
   "outputs": [
    {
     "data": {
      "text/html": [
       "<div>\n",
       "<style scoped>\n",
       "    .dataframe tbody tr th:only-of-type {\n",
       "        vertical-align: middle;\n",
       "    }\n",
       "\n",
       "    .dataframe tbody tr th {\n",
       "        vertical-align: top;\n",
       "    }\n",
       "\n",
       "    .dataframe thead th {\n",
       "        text-align: right;\n",
       "    }\n",
       "</style>\n",
       "<table border=\"1\" class=\"dataframe\">\n",
       "  <thead>\n",
       "    <tr style=\"text-align: right;\">\n",
       "      <th></th>\n",
       "      <th>CONCATENADO</th>\n",
       "      <th>CANTIDAD DE POSITIVOS</th>\n",
       "      <th>POBLACION</th>\n",
       "      <th>Departamento</th>\n",
       "      <th>Provincia</th>\n",
       "      <th>Distrito</th>\n",
       "      <th>POBLACION REMANENTE</th>\n",
       "      <th>PROBABILIDAD DE SEGUNDA OLA</th>\n",
       "    </tr>\n",
       "  </thead>\n",
       "  <tbody>\n",
       "    <tr>\n",
       "      <th>0</th>\n",
       "      <td>LIMALIMABREÑA</td>\n",
       "      <td>4347</td>\n",
       "      <td>85309.0</td>\n",
       "      <td>Lima</td>\n",
       "      <td>Lima</td>\n",
       "      <td>Breña</td>\n",
       "      <td>80962.0</td>\n",
       "      <td>0.949044</td>\n",
       "    </tr>\n",
       "    <tr>\n",
       "      <th>1</th>\n",
       "      <td>LIMALIMALIMA</td>\n",
       "      <td>30963</td>\n",
       "      <td>268352.0</td>\n",
       "      <td>Lima</td>\n",
       "      <td>Lima</td>\n",
       "      <td>Lima</td>\n",
       "      <td>237389.0</td>\n",
       "      <td>0.884618</td>\n",
       "    </tr>\n",
       "    <tr>\n",
       "      <th>2</th>\n",
       "      <td>LIMALIMASAN BORJA</td>\n",
       "      <td>4231</td>\n",
       "      <td>113247.0</td>\n",
       "      <td>Lima</td>\n",
       "      <td>Lima</td>\n",
       "      <td>San Borja</td>\n",
       "      <td>109016.0</td>\n",
       "      <td>0.962639</td>\n",
       "    </tr>\n",
       "    <tr>\n",
       "      <th>3</th>\n",
       "      <td>CALLAOCALLAOBELLAVISTA</td>\n",
       "      <td>7132</td>\n",
       "      <td>74851.0</td>\n",
       "      <td>Callao</td>\n",
       "      <td>Callao</td>\n",
       "      <td>Bellavista</td>\n",
       "      <td>67719.0</td>\n",
       "      <td>0.904717</td>\n",
       "    </tr>\n",
       "    <tr>\n",
       "      <th>4</th>\n",
       "      <td>LAMBAYEQUECHICLAYOCHICLAYO</td>\n",
       "      <td>9313</td>\n",
       "      <td>270496.0</td>\n",
       "      <td>Lambayeque</td>\n",
       "      <td>Chiclayo</td>\n",
       "      <td>Chiclayo</td>\n",
       "      <td>261183.0</td>\n",
       "      <td>0.965571</td>\n",
       "    </tr>\n",
       "  </tbody>\n",
       "</table>\n",
       "</div>"
      ],
      "text/plain": [
       "                  CONCATENADO  CANTIDAD DE POSITIVOS  POBLACION Departamento  \\\n",
       "0               LIMALIMABREÑA                   4347    85309.0         Lima   \n",
       "1                LIMALIMALIMA                  30963   268352.0         Lima   \n",
       "2           LIMALIMASAN BORJA                   4231   113247.0         Lima   \n",
       "3      CALLAOCALLAOBELLAVISTA                   7132    74851.0       Callao   \n",
       "4  LAMBAYEQUECHICLAYOCHICLAYO                   9313   270496.0   Lambayeque   \n",
       "\n",
       "  Provincia    Distrito  POBLACION REMANENTE  PROBABILIDAD DE SEGUNDA OLA  \n",
       "0      Lima       Breña              80962.0                     0.949044  \n",
       "1      Lima        Lima             237389.0                     0.884618  \n",
       "2      Lima   San Borja             109016.0                     0.962639  \n",
       "3    Callao  Bellavista              67719.0                     0.904717  \n",
       "4  Chiclayo    Chiclayo             261183.0                     0.965571  "
      ]
     },
     "execution_count": 10,
     "metadata": {},
     "output_type": "execute_result"
    }
   ],
   "source": [
    "###Para calcular la probabilidad de que ocurra una segunda ola \n",
    "df_pod_pos['POBLACION REMANENTE']  = df_pod_pos['POBLACION'] - df_pod_pos['CANTIDAD DE POSITIVOS']\n",
    "df_pod_pos['PROBABILIDAD DE SEGUNDA OLA'] = df_pod_pos['POBLACION REMANENTE']/df_pod_pos['POBLACION']\n",
    "df_pod_pos.head()"
   ]
  },
  {
   "cell_type": "markdown",
   "metadata": {},
   "source": [
    "Por último localizamos al distrito con más probabilidad de una segunda ola y resumimos sus datos:"
   ]
  },
  {
   "cell_type": "code",
   "execution_count": 11,
   "metadata": {},
   "outputs": [
    {
     "name": "stdout",
     "output_type": "stream",
     "text": [
      "El distrito con mayor probabilidad de que ocurra una segunda ola es :  Encañada\n",
      "Departamento :  Cajamarca\n",
      "Probabilidad :  0.9997913950456323\n",
      "Cantidad de positivos:  4\n",
      "Población remanente:  19171.0\n",
      "Población total :  19175.0\n"
     ]
    }
   ],
   "source": [
    "###Localizamos el que tiene mayor probabilidad de que ocurra una segunda ola\n",
    "dm  = df_pod_pos['PROBABILIDAD DE SEGUNDA OLA'].idxmax()\n",
    "print('El distrito con mayor probabilidad de que ocurra una segunda ola es : ', df_pod_pos.iloc[dm]['Distrito'])\n",
    "print('Departamento : ', df_pod_pos.iloc[dm]['Departamento'])\n",
    "print('Probabilidad : ' , df_pod_pos.iloc[dm]['PROBABILIDAD DE SEGUNDA OLA'])\n",
    "print('Cantidad de positivos: ',df_pod_pos.iloc[dm]['CANTIDAD DE POSITIVOS'])\n",
    "print('Población remanente: ',df_pod_pos.iloc[dm]['POBLACION REMANENTE'])\n",
    "print('Población total : ',  df_pod_pos.iloc[dm]['POBLACION'])\n"
   ]
  },
  {
   "cell_type": "markdown",
   "metadata": {},
   "source": [
    "# Pregunta 2"
   ]
  },
  {
   "cell_type": "markdown",
   "metadata": {},
   "source": [
    "**¿Cuál es el departamento con mayor probabilidad de tener una segunda ola?**"
   ]
  },
  {
   "cell_type": "markdown",
   "metadata": {},
   "source": [
    "## Dataset de poblacion por departamento"
   ]
  },
  {
   "cell_type": "markdown",
   "metadata": {},
   "source": [
    "En este caso solo necesitamos la población total por departamento entonces del dataset de población por distrito agrupamos y sumamos para cada departamento."
   ]
  },
  {
   "cell_type": "code",
   "execution_count": 12,
   "metadata": {},
   "outputs": [
    {
     "data": {
      "text/html": [
       "<div>\n",
       "<style scoped>\n",
       "    .dataframe tbody tr th:only-of-type {\n",
       "        vertical-align: middle;\n",
       "    }\n",
       "\n",
       "    .dataframe tbody tr th {\n",
       "        vertical-align: top;\n",
       "    }\n",
       "\n",
       "    .dataframe thead th {\n",
       "        text-align: right;\n",
       "    }\n",
       "</style>\n",
       "<table border=\"1\" class=\"dataframe\">\n",
       "  <thead>\n",
       "    <tr style=\"text-align: right;\">\n",
       "      <th></th>\n",
       "      <th>DEPARTAMENTO</th>\n",
       "      <th>POBLACION DEP</th>\n",
       "    </tr>\n",
       "  </thead>\n",
       "  <tbody>\n",
       "    <tr>\n",
       "      <th>0</th>\n",
       "      <td>AMAZONAS</td>\n",
       "      <td>379384.0</td>\n",
       "    </tr>\n",
       "    <tr>\n",
       "      <th>1</th>\n",
       "      <td>APURIMAC</td>\n",
       "      <td>405759.0</td>\n",
       "    </tr>\n",
       "    <tr>\n",
       "      <th>2</th>\n",
       "      <td>AREQUIPA</td>\n",
       "      <td>1382730.0</td>\n",
       "    </tr>\n",
       "    <tr>\n",
       "      <th>3</th>\n",
       "      <td>AYACUCHO</td>\n",
       "      <td>616176.0</td>\n",
       "    </tr>\n",
       "    <tr>\n",
       "      <th>4</th>\n",
       "      <td>CAJAMARCA</td>\n",
       "      <td>1341012.0</td>\n",
       "    </tr>\n",
       "  </tbody>\n",
       "</table>\n",
       "</div>"
      ],
      "text/plain": [
       "  DEPARTAMENTO  POBLACION DEP\n",
       "0     AMAZONAS       379384.0\n",
       "1     APURIMAC       405759.0\n",
       "2     AREQUIPA      1382730.0\n",
       "3     AYACUCHO       616176.0\n",
       "4    CAJAMARCA      1341012.0"
      ]
     },
     "execution_count": 12,
     "metadata": {},
     "output_type": "execute_result"
    }
   ],
   "source": [
    "df_pob_dp = pd.DataFrame()\n",
    "df_pob_dp['POBLACION DEP'] = 0\n",
    "df_pob_dp['POBLACION DEP'] = df_pob.groupby('Departamento')['POBLACION'].sum()\n",
    "df_pob_dp = df_pob_dp.reset_index()\n",
    "\n",
    "df_pob_dp.columns = df_pob_dp.columns.str.upper()\n",
    "\n",
    "\n",
    "df_pob_dp['DEPARTAMENTO'] = df_pob_dp['DEPARTAMENTO'].str.upper()\n",
    "\n",
    "df_pob_dp.head()"
   ]
  },
  {
   "cell_type": "markdown",
   "metadata": {},
   "source": [
    "## Dataset de positivos por departamento"
   ]
  },
  {
   "cell_type": "markdown",
   "metadata": {},
   "source": [
    "Ahora necesitamos la cantidad de positivos por cada departamento entonces del dataset de los positivos a nivel nacional, agrupamos por departamento y además se realiza el conteo para cada departamento"
   ]
  },
  {
   "cell_type": "code",
   "execution_count": 13,
   "metadata": {},
   "outputs": [
    {
     "data": {
      "text/html": [
       "<div>\n",
       "<style scoped>\n",
       "    .dataframe tbody tr th:only-of-type {\n",
       "        vertical-align: middle;\n",
       "    }\n",
       "\n",
       "    .dataframe tbody tr th {\n",
       "        vertical-align: top;\n",
       "    }\n",
       "\n",
       "    .dataframe thead th {\n",
       "        text-align: right;\n",
       "    }\n",
       "</style>\n",
       "<table border=\"1\" class=\"dataframe\">\n",
       "  <thead>\n",
       "    <tr style=\"text-align: right;\">\n",
       "      <th></th>\n",
       "      <th>DEPARTAMENTO</th>\n",
       "      <th>CANTIDAD DE POSITIVOS POR DEP</th>\n",
       "    </tr>\n",
       "  </thead>\n",
       "  <tbody>\n",
       "    <tr>\n",
       "      <th>0</th>\n",
       "      <td>LIMA</td>\n",
       "      <td>402133</td>\n",
       "    </tr>\n",
       "    <tr>\n",
       "      <th>1</th>\n",
       "      <td>CALLAO</td>\n",
       "      <td>36606</td>\n",
       "    </tr>\n",
       "    <tr>\n",
       "      <th>2</th>\n",
       "      <td>LAMBAYEQUE</td>\n",
       "      <td>28319</td>\n",
       "    </tr>\n",
       "    <tr>\n",
       "      <th>3</th>\n",
       "      <td>AREQUIPA</td>\n",
       "      <td>44256</td>\n",
       "    </tr>\n",
       "    <tr>\n",
       "      <th>4</th>\n",
       "      <td>PIURA</td>\n",
       "      <td>37982</td>\n",
       "    </tr>\n",
       "  </tbody>\n",
       "</table>\n",
       "</div>"
      ],
      "text/plain": [
       "  DEPARTAMENTO  CANTIDAD DE POSITIVOS POR DEP\n",
       "0         LIMA                         402133\n",
       "1       CALLAO                          36606\n",
       "2   LAMBAYEQUE                          28319\n",
       "3     AREQUIPA                          44256\n",
       "4        PIURA                          37982"
      ]
     },
     "execution_count": 13,
     "metadata": {},
     "output_type": "execute_result"
    }
   ],
   "source": [
    "###nuevo dataset para contar la cantidad de positvos por departamento\n",
    "df_pos_dep = pd.DataFrame() \n",
    "df_pos_dep['DEPARTAMENTO'] = df_pos['DEPARTAMENTO'].unique()\n",
    "\n",
    "df_pos_dep['CANTIDAD DE POSITIVOS POR DEP'] = 0\n",
    "\n",
    "df_pos_dep.set_index('DEPARTAMENTO', inplace = True)\n",
    "\n",
    "for dep in df_pos_dep.index:\n",
    "    cont = df_pos[df_pos['DEPARTAMENTO'] == dep]['DEPARTAMENTO'].count()\n",
    "    df_pos_dep['CANTIDAD DE POSITIVOS POR DEP'].loc[dep] = cont\n",
    "    \n",
    "df_pos_dep = df_pos_dep.reset_index()\n",
    "\n",
    "df_pos_dep.head()"
   ]
  },
  {
   "cell_type": "markdown",
   "metadata": {},
   "source": [
    "## Cruce entre el dataset de Positivos por departamento y la Poblacion por departamento\n",
    "\n",
    "Aqui usamos los datasets mencionados  y realizamos el cruce  con la llave de DEPARTAMENTO."
   ]
  },
  {
   "cell_type": "code",
   "execution_count": 14,
   "metadata": {},
   "outputs": [
    {
     "data": {
      "text/html": [
       "<div>\n",
       "<style scoped>\n",
       "    .dataframe tbody tr th:only-of-type {\n",
       "        vertical-align: middle;\n",
       "    }\n",
       "\n",
       "    .dataframe tbody tr th {\n",
       "        vertical-align: top;\n",
       "    }\n",
       "\n",
       "    .dataframe thead th {\n",
       "        text-align: right;\n",
       "    }\n",
       "</style>\n",
       "<table border=\"1\" class=\"dataframe\">\n",
       "  <thead>\n",
       "    <tr style=\"text-align: right;\">\n",
       "      <th></th>\n",
       "      <th>DEPARTAMENTO</th>\n",
       "      <th>CANTIDAD DE POSITIVOS POR DEP</th>\n",
       "      <th>POBLACION DEP</th>\n",
       "    </tr>\n",
       "  </thead>\n",
       "  <tbody>\n",
       "    <tr>\n",
       "      <th>0</th>\n",
       "      <td>LIMA</td>\n",
       "      <td>402133</td>\n",
       "      <td>9485405.0</td>\n",
       "    </tr>\n",
       "    <tr>\n",
       "      <th>1</th>\n",
       "      <td>CALLAO</td>\n",
       "      <td>36606</td>\n",
       "      <td>994494.0</td>\n",
       "    </tr>\n",
       "    <tr>\n",
       "      <th>2</th>\n",
       "      <td>LAMBAYEQUE</td>\n",
       "      <td>28319</td>\n",
       "      <td>1197260.0</td>\n",
       "    </tr>\n",
       "    <tr>\n",
       "      <th>3</th>\n",
       "      <td>AREQUIPA</td>\n",
       "      <td>44256</td>\n",
       "      <td>1382730.0</td>\n",
       "    </tr>\n",
       "    <tr>\n",
       "      <th>4</th>\n",
       "      <td>PIURA</td>\n",
       "      <td>37982</td>\n",
       "      <td>1856809.0</td>\n",
       "    </tr>\n",
       "  </tbody>\n",
       "</table>\n",
       "</div>"
      ],
      "text/plain": [
       "  DEPARTAMENTO  CANTIDAD DE POSITIVOS POR DEP  POBLACION DEP\n",
       "0         LIMA                         402133      9485405.0\n",
       "1       CALLAO                          36606       994494.0\n",
       "2   LAMBAYEQUE                          28319      1197260.0\n",
       "3     AREQUIPA                          44256      1382730.0\n",
       "4        PIURA                          37982      1856809.0"
      ]
     },
     "execution_count": 14,
     "metadata": {},
     "output_type": "execute_result"
    }
   ],
   "source": [
    "df_pdp_pos = pd.merge(df_pos_dep, df_pob_dp, how = 'inner', left_on= 'DEPARTAMENTO', right_on = 'DEPARTAMENTO')\n",
    "df_pdp_pos.head()"
   ]
  },
  {
   "cell_type": "markdown",
   "metadata": {},
   "source": [
    "Para calcular la probabilidad de que ocurra una segunda ola "
   ]
  },
  {
   "cell_type": "code",
   "execution_count": 15,
   "metadata": {},
   "outputs": [
    {
     "data": {
      "text/html": [
       "<div>\n",
       "<style scoped>\n",
       "    .dataframe tbody tr th:only-of-type {\n",
       "        vertical-align: middle;\n",
       "    }\n",
       "\n",
       "    .dataframe tbody tr th {\n",
       "        vertical-align: top;\n",
       "    }\n",
       "\n",
       "    .dataframe thead th {\n",
       "        text-align: right;\n",
       "    }\n",
       "</style>\n",
       "<table border=\"1\" class=\"dataframe\">\n",
       "  <thead>\n",
       "    <tr style=\"text-align: right;\">\n",
       "      <th></th>\n",
       "      <th>DEPARTAMENTO</th>\n",
       "      <th>CANTIDAD DE POSITIVOS POR DEP</th>\n",
       "      <th>POBLACION DEP</th>\n",
       "      <th>POBLACION REMANENTE</th>\n",
       "      <th>PROBABILIDAD DE SEGUNDA OLA</th>\n",
       "    </tr>\n",
       "  </thead>\n",
       "  <tbody>\n",
       "    <tr>\n",
       "      <th>0</th>\n",
       "      <td>LIMA</td>\n",
       "      <td>402133</td>\n",
       "      <td>9485405.0</td>\n",
       "      <td>9083272.0</td>\n",
       "      <td>0.957605</td>\n",
       "    </tr>\n",
       "    <tr>\n",
       "      <th>1</th>\n",
       "      <td>CALLAO</td>\n",
       "      <td>36606</td>\n",
       "      <td>994494.0</td>\n",
       "      <td>957888.0</td>\n",
       "      <td>0.963191</td>\n",
       "    </tr>\n",
       "    <tr>\n",
       "      <th>2</th>\n",
       "      <td>LAMBAYEQUE</td>\n",
       "      <td>28319</td>\n",
       "      <td>1197260.0</td>\n",
       "      <td>1168941.0</td>\n",
       "      <td>0.976347</td>\n",
       "    </tr>\n",
       "    <tr>\n",
       "      <th>3</th>\n",
       "      <td>AREQUIPA</td>\n",
       "      <td>44256</td>\n",
       "      <td>1382730.0</td>\n",
       "      <td>1338474.0</td>\n",
       "      <td>0.967994</td>\n",
       "    </tr>\n",
       "    <tr>\n",
       "      <th>4</th>\n",
       "      <td>PIURA</td>\n",
       "      <td>37982</td>\n",
       "      <td>1856809.0</td>\n",
       "      <td>1818827.0</td>\n",
       "      <td>0.979544</td>\n",
       "    </tr>\n",
       "  </tbody>\n",
       "</table>\n",
       "</div>"
      ],
      "text/plain": [
       "  DEPARTAMENTO  CANTIDAD DE POSITIVOS POR DEP  POBLACION DEP  \\\n",
       "0         LIMA                         402133      9485405.0   \n",
       "1       CALLAO                          36606       994494.0   \n",
       "2   LAMBAYEQUE                          28319      1197260.0   \n",
       "3     AREQUIPA                          44256      1382730.0   \n",
       "4        PIURA                          37982      1856809.0   \n",
       "\n",
       "   POBLACION REMANENTE  PROBABILIDAD DE SEGUNDA OLA  \n",
       "0            9083272.0                     0.957605  \n",
       "1             957888.0                     0.963191  \n",
       "2            1168941.0                     0.976347  \n",
       "3            1338474.0                     0.967994  \n",
       "4            1818827.0                     0.979544  "
      ]
     },
     "execution_count": 15,
     "metadata": {},
     "output_type": "execute_result"
    }
   ],
   "source": [
    "###Calculo de poblaion remanente y probabilidades\n",
    "df_pdp_pos['POBLACION REMANENTE']  = df_pdp_pos['POBLACION DEP'] - df_pdp_pos['CANTIDAD DE POSITIVOS POR DEP']\n",
    "df_pdp_pos['PROBABILIDAD DE SEGUNDA OLA'] = df_pdp_pos['POBLACION REMANENTE']/df_pdp_pos['POBLACION DEP']\n",
    "df_pdp_pos.head()"
   ]
  },
  {
   "cell_type": "markdown",
   "metadata": {},
   "source": [
    "Por último localizamos al departamento con más probabilidad de una segunda ola y resumimos sus datos:"
   ]
  },
  {
   "cell_type": "code",
   "execution_count": 16,
   "metadata": {},
   "outputs": [
    {
     "name": "stdout",
     "output_type": "stream",
     "text": [
      "Departamento con mayor probabilidad de segunda ola :  APURIMAC\n",
      "Probabilidad :  0.9862233493280494\n",
      "Cantidad de positivos:  5590\n",
      "Población remanente:  400169.0\n",
      "Población total :  405759.0\n"
     ]
    }
   ],
   "source": [
    "###Localizamos el que tiene mayor probabilidad de que ocurra una segunda ola\n",
    "mdp = df_pdp_pos['PROBABILIDAD DE SEGUNDA OLA'].idxmax()\n",
    "\n",
    "print('Departamento con mayor probabilidad de segunda ola : ', df_pdp_pos.iloc[mdp]['DEPARTAMENTO'])\n",
    "print('Probabilidad : ' , df_pdp_pos.iloc[mdp]['PROBABILIDAD DE SEGUNDA OLA'])\n",
    "print('Cantidad de positivos: ',df_pdp_pos.iloc[mdp]['CANTIDAD DE POSITIVOS POR DEP'])\n",
    "print('Población remanente: ',df_pdp_pos.iloc[mdp]['POBLACION REMANENTE'])\n",
    "print('Población total : ',  df_pdp_pos.iloc[mdp]['POBLACION DEP'])\n"
   ]
  },
  {
   "cell_type": "markdown",
   "metadata": {},
   "source": [
    "# Pregunta 3"
   ]
  },
  {
   "cell_type": "markdown",
   "metadata": {},
   "source": [
    "**Describa cuál será la situación de Lima Metropolitana, en términos de\n",
    "si existirá o no una segunda ola**"
   ]
  },
  {
   "cell_type": "markdown",
   "metadata": {},
   "source": [
    "a) Grafique la curva de las frecuencias temporales de casos postivos y fallecidos.\n",
    "Explique gráficamente si se observan caídas o incrementos en la información."
   ]
  },
  {
   "cell_type": "markdown",
   "metadata": {},
   "source": [
    "### Graficos de Positivos y Fallecidos en Lima Metropolitana"
   ]
  },
  {
   "cell_type": "markdown",
   "metadata": {},
   "source": [
    "### Grafico de Positivos en Lima Metropolitana"
   ]
  },
  {
   "cell_type": "markdown",
   "metadata": {},
   "source": [
    "De la datos de positivos cargada ya anteriormente solo filtraremos los que sean de Lima Metropolitana , corresponde a la provincia de Lima y la provincia del Callao; luego resumimos los datos estadisticos importantes para poder interpretarlos."
   ]
  },
  {
   "cell_type": "code",
   "execution_count": 17,
   "metadata": {},
   "outputs": [
    {
     "name": "stdout",
     "output_type": "stream",
     "text": [
      "Descripción de los positivos registrados en Lima Metropolitana\n",
      "count     233.000000\n",
      "mean     1632.862661\n",
      "std      1010.188950\n",
      "min         1.000000\n",
      "25%       972.000000\n",
      "50%      1541.000000\n",
      "75%      2335.000000\n",
      "max      4503.000000\n",
      "Name: NRO POSITIVOS DIARIO, dtype: float64\n"
     ]
    }
   ],
   "source": [
    "df_ptlima = df_pos[(df_pos['PROVINCIA'] == 'LIMA') | (df_pos['PROVINCIA'] == 'CALLAO')]\n",
    "#df_ptlima.head()\n",
    "df_pos_lima = pd.DataFrame()\n",
    "df_pos_lima['NRO POSITIVOS DIARIO'] =0 \n",
    "df_pos_lima['NRO POSITIVOS DIARIO'] = df_ptlima.groupby('FECHA_RESULTADO')['FECHA_RESULTADO'].count()\n",
    "df_pos_lima.reset_index(inplace = True)\n",
    "\n",
    "print('Descripción de los positivos registrados en Lima Metropolitana')\n",
    "print(df_pos_lima['NRO POSITIVOS DIARIO'].describe())"
   ]
  },
  {
   "cell_type": "markdown",
   "metadata": {},
   "source": [
    "Graficamos los datos positivos con respecto a las fechas del resultado dado en los examenes"
   ]
  },
  {
   "cell_type": "code",
   "execution_count": 18,
   "metadata": {},
   "outputs": [
    {
     "data": {
      "image/png": "[encoded data removed]",
      "text/plain": [
       "<Figure size 1600x900 with 1 Axes>"
      ]
     },
     "metadata": {
      "needs_background": "light"
     },
     "output_type": "display_data"
    }
   ],
   "source": [
    "###grafica \n",
    "import datetime\n",
    "import matplotlib.pyplot as plt\n",
    "\n",
    "df_pos_lima['FECHA'] = pd.to_datetime(df_pos_lima['FECHA_RESULTADO'], format='%Y%m%d')\n",
    "\n",
    "x1 = df_pos_lima['FECHA']\n",
    "y1 = df_pos_lima['NRO POSITIVOS DIARIO'].tolist()\n",
    "\n",
    "fig1, ax1 = plt.subplots(1, 1, figsize=(16,9), dpi= 100)\n",
    "ax1.bar(x1, y1, color='blue', linewidth=2, alpha=0.6)\n",
    "ax1.set_title('FRECUENCIA DE POSITIVOS DIARIO', fontsize=18)\n",
    "\n",
    "plt.show()"
   ]
  },
  {
   "cell_type": "markdown",
   "metadata": {},
   "source": [
    "### Grafico de Fallecidos en Lima Metropolitana"
   ]
  },
  {
   "cell_type": "markdown",
   "metadata": {},
   "source": [
    "De la datos de fallecidos tenemos que cargar solo los que corresponden a Lima Metropolitana como en el caso anterior, además resumimos datos estadisticos importantes para poder interpretarlos."
   ]
  },
  {
   "cell_type": "code",
   "execution_count": 19,
   "metadata": {},
   "outputs": [
    {
     "name": "stdout",
     "output_type": "stream",
     "text": [
      "Descripción de los fallecidos registrados en Lima Metropolitana\n",
      "count    218.000000\n",
      "mean      70.949541\n",
      "std       34.340692\n",
      "min        1.000000\n",
      "25%       44.000000\n",
      "50%       74.000000\n",
      "75%       95.750000\n",
      "max      164.000000\n",
      "Name: NRO DE FALLECIDOS, dtype: float64\n"
     ]
    }
   ],
   "source": [
    "df_fdlim = df_fad[(df_fad['PROVINCIA'] == 'LIMA') | (df_fad['PROVINCIA'] == 'CALLAO')]\n",
    "\n",
    "df_fad_lima = pd.DataFrame()\n",
    "df_fad_lima['NRO DE FALLECIDOS'] = 0\n",
    "\n",
    "df_fad_lima['NRO DE FALLECIDOS'] = df_fdlim.groupby('FECHA_FALLECIMIENTO')['FECHA_FALLECIMIENTO'].count()\n",
    "df_fad_lima.reset_index(inplace = True)\n",
    "\n",
    "print('Descripción de los fallecidos registrados en Lima Metropolitana')\n",
    "print(df_fad_lima['NRO DE FALLECIDOS'].describe())"
   ]
  },
  {
   "cell_type": "markdown",
   "metadata": {},
   "source": [
    "Graficamos los datos positivos con respecto a las fechas de fallecimiento registrado en el dataset."
   ]
  },
  {
   "cell_type": "code",
   "execution_count": 20,
   "metadata": {},
   "outputs": [
    {
     "data": {
      "image/png": "[encoded data removed]",
      "text/plain": [
       "<Figure size 1600x900 with 1 Axes>"
      ]
     },
     "metadata": {
      "needs_background": "light"
     },
     "output_type": "display_data"
    }
   ],
   "source": [
    "###grafica \n",
    "\n",
    "df_fad_lima['FECHA'] = pd.to_datetime(df_fad_lima['FECHA_FALLECIMIENTO'], format='%Y%m%d')\n",
    "\n",
    "x2 = df_fad_lima['FECHA']\n",
    "y2 = df_fad_lima['NRO DE FALLECIDOS'].tolist()\n",
    "\n",
    "fig2, ax2 = plt.subplots(1, 1, figsize=(16,9), dpi= 100)\n",
    "ax2.bar(x2, y2, color='red', linewidth=2, alpha=0.6)\n",
    "ax2.set_title('FRECUENCIA DE FALLECIDOS DIARIO', fontsize=18)\n",
    "\n",
    "plt.show()"
   ]
  },
  {
   "cell_type": "markdown",
   "metadata": {},
   "source": [
    "### Datos Lima Metropolitana"
   ]
  },
  {
   "cell_type": "markdown",
   "metadata": {},
   "source": [
    "b) ¿Qué tan probable es que haya una segunda ola de infección en Lima? "
   ]
  },
  {
   "cell_type": "markdown",
   "metadata": {},
   "source": [
    "Para poder responder la pregunta interpretaremos los datos correspondientes a Lima Metropolitana"
   ]
  },
  {
   "cell_type": "code",
   "execution_count": 21,
   "metadata": {},
   "outputs": [
    {
     "name": "stdout",
     "output_type": "stream",
     "text": [
      "La poblacion total correspondiente a Lima Metropolitana es :  9569468\n",
      "Total de positivos en Lima Metropolitana es :  380457\n",
      "Total de poblacion remanente en Lima Metropolitana es :  9189011.0\n",
      "La cantidad total de fallecidos es:  15467\n",
      "Tasa de mortalidad en Lima Metropolitana es : 3.975738254205981 %\n",
      "Probabilidad de segunda ola es :  0.9602426174579402\n"
     ]
    }
   ],
   "source": [
    "#\n",
    "df_lima = df_pob[(df_pob['Provincia'] == 'Lima') | (df_pob['Provincia'] == 'Callao')]\n",
    "poblacion_lima = np.sum(df_lima['POBLACION'])\n",
    "total_positivos = np.sum(df_pos_lima['NRO POSITIVOS DIARIO'])\n",
    "total_fallecidos = np.sum(df_fad_lima['NRO DE FALLECIDOS'])\n",
    "pob_rem_lima = poblacion_lima - total_positivos\n",
    "prob_seg = pob_rem_lima/poblacion_lima\n",
    "porc_letal = (total_positivos/poblacion_lima)*100\n",
    "print('La poblacion total correspondiente a Lima Metropolitana es : ', int(poblacion_lima))\n",
    "print('Total de positivos en Lima Metropolitana es : ', total_positivos)\n",
    "print('Total de poblacion remanente en Lima Metropolitana es : ', pob_rem_lima)\n",
    "print('La cantidad total de fallecidos es: ', total_fallecidos)\n",
    "print('Tasa de mortalidad en Lima Metropolitana es : {} %'.format(porc_letal))\n",
    "print('Probabilidad de segunda ola es : ', prob_seg)"
   ]
  },
  {
   "cell_type": "markdown",
   "metadata": {},
   "source": [
    "Sí es altamente probable que ocurra una segunda ola"
   ]
  },
  {
   "cell_type": "markdown",
   "metadata": {},
   "source": [
    "Se puede apreciar en los gráficos que hay caidas en la cantidad de positivos y tambien así de fallecidos, siguen \n",
    "sumando en el registro acumulado pero da una transición a una caída. Pero considerando que la cantidad de positivos\n",
    "no tiene mucho margen de error se calcula una alta población remanente que es muy probable que en los próximos meses puedan\n",
    "considerarse a la cantidad de positivos, y además con la tasa de mortalidad para Lima es relativamente alta, considerando que \n",
    "se levanten las restricciones dadas por el Gobierno."
   ]
  },
  {
   "cell_type": "code",
   "execution_count": null,
   "metadata": {},
   "outputs": [],
   "source": []
  }
 ],
 "metadata": {
  "kernelspec": {
   "display_name": "Python 3",
   "language": "python",
   "name": "python3"
  },
  "language_info": {
   "codemirror_mode": {
    "name": "ipython",
    "version": 3
   },
   "file_extension": ".py",
   "mimetype": "text/x-python",
   "name": "python",
   "nbconvert_exporter": "python",
   "pygments_lexer": "ipython3",
   "version": "3.8.3"
  }
 },
 "nbformat": 4,
 "nbformat_minor": 4
}
